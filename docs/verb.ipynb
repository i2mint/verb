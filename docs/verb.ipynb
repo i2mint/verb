{
 "cells": [
  {
   "cell_type": "markdown",
   "metadata": {
    "toc": true
   },
   "source": [
    "<h1>Table of Contents<span class=\"tocSkip\"></span></h1>\n",
    "<div class=\"toc\"><ul class=\"toc-item\"><li><span><a href=\"#A-quick-intro-to-Command\" data-toc-modified-id=\"A-quick-intro-to-Command-1\"><span class=\"toc-item-num\">1&nbsp;&nbsp;</span>A quick intro to Command</a></span><ul class=\"toc-item\"><li><span><a href=\"#Example:-Table-Selector-Mini-Language\" data-toc-modified-id=\"Example:-Table-Selector-Mini-Language-1.1\"><span class=\"toc-item-num\">1.1&nbsp;&nbsp;</span>Example: Table Selector Mini Language</a></span></li></ul></li></ul></div>"
   ]
  },
  {
   "cell_type": "code",
   "execution_count": null,
   "metadata": {},
   "outputs": [],
   "source": []
  },
  {
   "cell_type": "code",
   "execution_count": null,
   "metadata": {},
   "outputs": [],
   "source": []
  },
  {
   "cell_type": "markdown",
   "metadata": {},
   "source": [
    "# A quick intro to Command"
   ]
  },
  {
   "cell_type": "code",
   "execution_count": 1,
   "metadata": {
    "ExecuteTime": {
     "end_time": "2021-05-07T17:36:53.512092Z",
     "start_time": "2021-05-07T17:36:53.445172Z"
    }
   },
   "outputs": [],
   "source": [
    "from verb import *"
   ]
  },
  {
   "cell_type": "markdown",
   "metadata": {},
   "source": [
    "In a nutshell, you make a str-to-func mapping (or use the default)"
   ]
  },
  {
   "cell_type": "code",
   "execution_count": 2,
   "metadata": {
    "ExecuteTime": {
     "end_time": "2021-05-07T17:36:53.544333Z",
     "start_time": "2021-05-07T17:36:53.521323Z"
    }
   },
   "outputs": [
    {
     "data": {
      "text/plain": [
       "1.5"
      ]
     },
     "execution_count": 2,
     "metadata": {},
     "output_type": "execute_result"
    }
   ],
   "source": [
    "import operator as o\n",
    "\n",
    "func_of_op_str = {  # Note: Order represents precedence!\n",
    "    '-': o.sub,\n",
    "    '+': o.add,\n",
    "    '*': o.mul,\n",
    "    '/': o.truediv,\n",
    "}\n",
    "\n",
    "# You give it a command string\n",
    "\n",
    "command_str = '1 + 2 - 3 * 4 / 8'\n",
    "command = Command(command_str, func_of_op_str)\n",
    "\n",
    "# You execute the command\n",
    "command()"
   ]
  },
  {
   "cell_type": "markdown",
   "metadata": {},
   "source": [
    "You give it a command string"
   ]
  },
  {
   "cell_type": "code",
   "execution_count": 3,
   "metadata": {
    "ExecuteTime": {
     "end_time": "2021-05-07T17:36:53.618414Z",
     "start_time": "2021-05-07T17:36:53.599122Z"
    }
   },
   "outputs": [],
   "source": [
    "command_str = '1 + 2 - 3 * 4 / 8'\n",
    "command = Command(command_str, func_of_op_str)"
   ]
  },
  {
   "cell_type": "markdown",
   "metadata": {},
   "source": [
    "You execute the command"
   ]
  },
  {
   "cell_type": "code",
   "execution_count": 4,
   "metadata": {
    "ExecuteTime": {
     "end_time": "2021-05-07T17:36:53.686994Z",
     "start_time": "2021-05-07T17:36:53.665219Z"
    }
   },
   "outputs": [
    {
     "data": {
      "text/plain": [
       "1.5"
      ]
     },
     "execution_count": 4,
     "metadata": {},
     "output_type": "execute_result"
    }
   ],
   "source": [
    "command()"
   ]
  },
  {
   "cell_type": "markdown",
   "metadata": {},
   "source": [
    "It may be useful to see what the operation structure looks like"
   ]
  },
  {
   "cell_type": "code",
   "execution_count": 5,
   "metadata": {
    "ExecuteTime": {
     "end_time": "2021-05-07T17:36:53.769236Z",
     "start_time": "2021-05-07T17:36:53.736488Z"
    }
   },
   "outputs": [
    {
     "data": {
      "text/plain": [
       "{'-': ({'+': (1, 2)}, {'*': (3, {'/': (4, 8)})})}"
      ]
     },
     "execution_count": 5,
     "metadata": {},
     "output_type": "execute_result"
    }
   ],
   "source": [
    "d = command.to_dict()\n",
    "d"
   ]
  },
  {
   "cell_type": "code",
   "execution_count": 6,
   "metadata": {
    "ExecuteTime": {
     "end_time": "2021-05-07T17:36:53.796089Z",
     "start_time": "2021-05-07T17:36:53.771807Z"
    }
   },
   "outputs": [
    {
     "name": "stdout",
     "output_type": "stream",
     "text": [
      "{\n",
      "  \"-\": [\n",
      "    {\n",
      "      \"+\": [\n",
      "        1,\n",
      "        2\n",
      "      ]\n",
      "    },\n",
      "    {\n",
      "      \"*\": [\n",
      "        3,\n",
      "        {\n",
      "          \"/\": [\n",
      "            4,\n",
      "            8\n",
      "          ]\n",
      "        }\n",
      "      ]\n",
      "    }\n",
      "  ]\n",
      "}\n"
     ]
    }
   ],
   "source": [
    "# Or if you read better with indents\n",
    "\n",
    "from functools import partial\n",
    "import json\n",
    "from lined import Pipe\n",
    "\n",
    "print_jdict = Pipe(partial(json.dumps, indent=2), print)  # Note: Only works if your dict is JSON-izable. \n",
    "\n",
    "print_jdict(d)"
   ]
  },
  {
   "cell_type": "markdown",
   "metadata": {},
   "source": [
    "That same dict can be used as a parameter to make the same command"
   ]
  },
  {
   "cell_type": "code",
   "execution_count": 7,
   "metadata": {
    "ExecuteTime": {
     "end_time": "2021-05-07T17:36:53.834559Z",
     "start_time": "2021-05-07T17:36:53.809080Z"
    }
   },
   "outputs": [
    {
     "data": {
      "text/plain": [
       "1.5"
      ]
     },
     "execution_count": 7,
     "metadata": {},
     "output_type": "execute_result"
    }
   ],
   "source": [
    "command = Command(d, func_of_op_str)\n",
    "command()"
   ]
  },
  {
   "cell_type": "markdown",
   "metadata": {},
   "source": [
    "## Example: Table Selector Mini Language"
   ]
  },
  {
   "cell_type": "code",
   "execution_count": 8,
   "metadata": {
    "ExecuteTime": {
     "end_time": "2021-05-07T17:36:53.904904Z",
     "start_time": "2021-05-07T17:36:53.879130Z"
    }
   },
   "outputs": [],
   "source": [
    "import operator as o\n",
    "from typing import Callable, Mapping\n",
    "from functools import partial\n",
    "\n",
    "import pandas as pd\n",
    "from lined import Pipe\n",
    "from verb import str_to_basic_pyobj, Command\n",
    "\n",
    "\n",
    "dflt_func_of_op_str_for_table_selection = {  # Note: Order represents precedence!\n",
    "    '&': o.__and__,\n",
    "    '==': o.__eq__,\n",
    "    '<=': o.__le__,\n",
    "    '>=': o.__ge__,\n",
    "    '<': o.__lt__,\n",
    "    '>': o.__gt__,\n",
    "}\n",
    "\n",
    "\n",
    "def mk_table_selector(\n",
    "    table: pd.DataFrame,\n",
    "    func_of_op_str: Mapping[str, Callable] = dflt_func_of_op_str_for_table_selection\n",
    "):\n",
    "\n",
    "    def leaf_processor(x):\n",
    "        x = str_to_basic_pyobj(x)\n",
    "        if x in df:\n",
    "            return df[x]\n",
    "        return x\n",
    "\n",
    "    run_command = Pipe(\n",
    "        partial(\n",
    "            Command.from_string,\n",
    "            func_of_op_str=func_of_op_str,\n",
    "            leaf_processor=leaf_processor\n",
    "        ),\n",
    "        lambda f: f(),\n",
    "        lambda idx: df[idx],\n",
    "    )\n",
    "\n",
    "    return run_command"
   ]
  },
  {
   "cell_type": "code",
   "execution_count": 9,
   "metadata": {
    "ExecuteTime": {
     "end_time": "2021-05-07T17:36:54.020443Z",
     "start_time": "2021-05-07T17:36:53.907774Z"
    }
   },
   "outputs": [
    {
     "data": {
      "text/html": [
       "<div>\n",
       "<style scoped>\n",
       "    .dataframe tbody tr th:only-of-type {\n",
       "        vertical-align: middle;\n",
       "    }\n",
       "\n",
       "    .dataframe tbody tr th {\n",
       "        vertical-align: top;\n",
       "    }\n",
       "\n",
       "    .dataframe thead th {\n",
       "        text-align: right;\n",
       "    }\n",
       "</style>\n",
       "<table border=\"1\" class=\"dataframe\">\n",
       "  <thead>\n",
       "    <tr style=\"text-align: right;\">\n",
       "      <th></th>\n",
       "      <th>source</th>\n",
       "      <th>bt</th>\n",
       "      <th>tt</th>\n",
       "      <th>annot</th>\n",
       "      <th>comments</th>\n",
       "    </tr>\n",
       "  </thead>\n",
       "  <tbody>\n",
       "    <tr>\n",
       "      <th>0</th>\n",
       "      <td>audio</td>\n",
       "      <td>5</td>\n",
       "      <td>7</td>\n",
       "      <td>cat</td>\n",
       "      <td>NaN</td>\n",
       "    </tr>\n",
       "    <tr>\n",
       "      <th>1</th>\n",
       "      <td>audio</td>\n",
       "      <td>6</td>\n",
       "      <td>9</td>\n",
       "      <td>dog</td>\n",
       "      <td>barks and chases cat away</td>\n",
       "    </tr>\n",
       "    <tr>\n",
       "      <th>2</th>\n",
       "      <td>visual</td>\n",
       "      <td>5</td>\n",
       "      <td>8</td>\n",
       "      <td>cat</td>\n",
       "      <td>NaN</td>\n",
       "    </tr>\n",
       "    <tr>\n",
       "      <th>3</th>\n",
       "      <td>visual</td>\n",
       "      <td>6</td>\n",
       "      <td>15</td>\n",
       "      <td>dog</td>\n",
       "      <td>dog remains in view after bark ceases</td>\n",
       "    </tr>\n",
       "  </tbody>\n",
       "</table>\n",
       "</div>"
      ],
      "text/plain": [
       "   source  bt  tt annot                               comments\n",
       "0   audio   5   7   cat                                    NaN\n",
       "1   audio   6   9   dog              barks and chases cat away\n",
       "2  visual   5   8   cat                                    NaN\n",
       "3  visual   6  15   dog  dog remains in view after bark ceases"
      ]
     },
     "execution_count": 9,
     "metadata": {},
     "output_type": "execute_result"
    }
   ],
   "source": [
    "import pandas as pd\n",
    "\n",
    "# from mongodol.tests import data\n",
    "# data.nums_and_lans\n",
    "\n",
    "df = pd.DataFrame(\n",
    "    [{'source': 'audio', 'bt': 5, 'tt': 7, 'annot': 'cat'},\n",
    "     {'source': 'audio',\n",
    "        'bt': 6,\n",
    "        'tt': 9,\n",
    "        'annot': 'dog',\n",
    "        'comments': 'barks and chases cat away'},\n",
    "        {'source': 'visual', 'bt': 5, 'tt': 8, 'annot': 'cat'},\n",
    "        {'source': 'visual',\n",
    "         'bt': 6,\n",
    "         'tt': 15,\n",
    "         'annot': 'dog',\n",
    "         'comments': 'dog remains in view after bark ceases'}]\n",
    ")\n",
    "df"
   ]
  },
  {
   "cell_type": "code",
   "execution_count": 10,
   "metadata": {
    "ExecuteTime": {
     "end_time": "2021-05-07T17:36:54.046201Z",
     "start_time": "2021-05-07T17:36:54.023502Z"
    }
   },
   "outputs": [],
   "source": [
    "run_command = mk_table_selector(df)"
   ]
  },
  {
   "cell_type": "code",
   "execution_count": 11,
   "metadata": {
    "ExecuteTime": {
     "end_time": "2021-05-07T17:36:54.085969Z",
     "start_time": "2021-05-07T17:36:54.050011Z"
    }
   },
   "outputs": [
    {
     "data": {
      "text/html": [
       "<div>\n",
       "<style scoped>\n",
       "    .dataframe tbody tr th:only-of-type {\n",
       "        vertical-align: middle;\n",
       "    }\n",
       "\n",
       "    .dataframe tbody tr th {\n",
       "        vertical-align: top;\n",
       "    }\n",
       "\n",
       "    .dataframe thead th {\n",
       "        text-align: right;\n",
       "    }\n",
       "</style>\n",
       "<table border=\"1\" class=\"dataframe\">\n",
       "  <thead>\n",
       "    <tr style=\"text-align: right;\">\n",
       "      <th></th>\n",
       "      <th>source</th>\n",
       "      <th>bt</th>\n",
       "      <th>tt</th>\n",
       "      <th>annot</th>\n",
       "      <th>comments</th>\n",
       "    </tr>\n",
       "  </thead>\n",
       "  <tbody>\n",
       "    <tr>\n",
       "      <th>0</th>\n",
       "      <td>audio</td>\n",
       "      <td>5</td>\n",
       "      <td>7</td>\n",
       "      <td>cat</td>\n",
       "      <td>NaN</td>\n",
       "    </tr>\n",
       "    <tr>\n",
       "      <th>1</th>\n",
       "      <td>audio</td>\n",
       "      <td>6</td>\n",
       "      <td>9</td>\n",
       "      <td>dog</td>\n",
       "      <td>barks and chases cat away</td>\n",
       "    </tr>\n",
       "  </tbody>\n",
       "</table>\n",
       "</div>"
      ],
      "text/plain": [
       "  source  bt  tt annot                   comments\n",
       "0  audio   5   7   cat                        NaN\n",
       "1  audio   6   9   dog  barks and chases cat away"
      ]
     },
     "execution_count": 11,
     "metadata": {},
     "output_type": "execute_result"
    }
   ],
   "source": [
    "run_command('source == audio')"
   ]
  },
  {
   "cell_type": "code",
   "execution_count": 12,
   "metadata": {
    "ExecuteTime": {
     "end_time": "2021-05-07T17:36:54.170635Z",
     "start_time": "2021-05-07T17:36:54.088912Z"
    }
   },
   "outputs": [
    {
     "data": {
      "text/html": [
       "<div>\n",
       "<style scoped>\n",
       "    .dataframe tbody tr th:only-of-type {\n",
       "        vertical-align: middle;\n",
       "    }\n",
       "\n",
       "    .dataframe tbody tr th {\n",
       "        vertical-align: top;\n",
       "    }\n",
       "\n",
       "    .dataframe thead th {\n",
       "        text-align: right;\n",
       "    }\n",
       "</style>\n",
       "<table border=\"1\" class=\"dataframe\">\n",
       "  <thead>\n",
       "    <tr style=\"text-align: right;\">\n",
       "      <th></th>\n",
       "      <th>source</th>\n",
       "      <th>bt</th>\n",
       "      <th>tt</th>\n",
       "      <th>annot</th>\n",
       "      <th>comments</th>\n",
       "    </tr>\n",
       "  </thead>\n",
       "  <tbody>\n",
       "    <tr>\n",
       "      <th>0</th>\n",
       "      <td>audio</td>\n",
       "      <td>5</td>\n",
       "      <td>7</td>\n",
       "      <td>cat</td>\n",
       "      <td>NaN</td>\n",
       "    </tr>\n",
       "    <tr>\n",
       "      <th>2</th>\n",
       "      <td>visual</td>\n",
       "      <td>5</td>\n",
       "      <td>8</td>\n",
       "      <td>cat</td>\n",
       "      <td>NaN</td>\n",
       "    </tr>\n",
       "  </tbody>\n",
       "</table>\n",
       "</div>"
      ],
      "text/plain": [
       "   source  bt  tt annot comments\n",
       "0   audio   5   7   cat      NaN\n",
       "2  visual   5   8   cat      NaN"
      ]
     },
     "execution_count": 12,
     "metadata": {},
     "output_type": "execute_result"
    }
   ],
   "source": [
    "run_command('tt <= 8')"
   ]
  },
  {
   "cell_type": "code",
   "execution_count": 13,
   "metadata": {
    "ExecuteTime": {
     "end_time": "2021-05-07T17:36:54.206907Z",
     "start_time": "2021-05-07T17:36:54.174143Z"
    }
   },
   "outputs": [
    {
     "data": {
      "text/html": [
       "<div>\n",
       "<style scoped>\n",
       "    .dataframe tbody tr th:only-of-type {\n",
       "        vertical-align: middle;\n",
       "    }\n",
       "\n",
       "    .dataframe tbody tr th {\n",
       "        vertical-align: top;\n",
       "    }\n",
       "\n",
       "    .dataframe thead th {\n",
       "        text-align: right;\n",
       "    }\n",
       "</style>\n",
       "<table border=\"1\" class=\"dataframe\">\n",
       "  <thead>\n",
       "    <tr style=\"text-align: right;\">\n",
       "      <th></th>\n",
       "      <th>source</th>\n",
       "      <th>bt</th>\n",
       "      <th>tt</th>\n",
       "      <th>annot</th>\n",
       "      <th>comments</th>\n",
       "    </tr>\n",
       "  </thead>\n",
       "  <tbody>\n",
       "    <tr>\n",
       "      <th>0</th>\n",
       "      <td>audio</td>\n",
       "      <td>5</td>\n",
       "      <td>7</td>\n",
       "      <td>cat</td>\n",
       "      <td>NaN</td>\n",
       "    </tr>\n",
       "  </tbody>\n",
       "</table>\n",
       "</div>"
      ],
      "text/plain": [
       "  source  bt  tt annot comments\n",
       "0  audio   5   7   cat      NaN"
      ]
     },
     "execution_count": 13,
     "metadata": {},
     "output_type": "execute_result"
    }
   ],
   "source": [
    "run_command('source == audio & tt <= 8')"
   ]
  },
  {
   "cell_type": "code",
   "execution_count": null,
   "metadata": {},
   "outputs": [],
   "source": []
  },
  {
   "cell_type": "code",
   "execution_count": null,
   "metadata": {},
   "outputs": [],
   "source": []
  },
  {
   "cell_type": "code",
   "execution_count": null,
   "metadata": {},
   "outputs": [],
   "source": []
  },
  {
   "cell_type": "code",
   "execution_count": null,
   "metadata": {},
   "outputs": [],
   "source": []
  },
  {
   "cell_type": "code",
   "execution_count": null,
   "metadata": {},
   "outputs": [],
   "source": []
  }
 ],
 "metadata": {
  "kernelspec": {
   "display_name": "Python 3",
   "language": "python",
   "name": "python3"
  },
  "language_info": {
   "codemirror_mode": {
    "name": "ipython",
    "version": 3
   },
   "file_extension": ".py",
   "mimetype": "text/x-python",
   "name": "python",
   "nbconvert_exporter": "python",
   "pygments_lexer": "ipython3",
   "version": "3.8.6"
  },
  "latex_envs": {
   "LaTeX_envs_menu_present": true,
   "autoclose": false,
   "autocomplete": true,
   "bibliofile": "biblio.bib",
   "cite_by": "apalike",
   "current_citInitial": 1,
   "eqLabelWithNumbers": true,
   "eqNumInitial": 1,
   "hotkeys": {
    "equation": "Ctrl-E",
    "itemize": "Ctrl-I"
   },
   "labels_anchors": false,
   "latex_user_defs": false,
   "report_style_numbering": false,
   "user_envs_cfg": false
  },
  "toc": {
   "base_numbering": 1,
   "nav_menu": {},
   "number_sections": true,
   "sideBar": false,
   "skip_h1_title": false,
   "title_cell": "Table of Contents",
   "title_sidebar": "Contents",
   "toc_cell": true,
   "toc_position": {
    "height": "162.326px",
    "left": "57px",
    "top": "148.052px",
    "width": "1427.78px"
   },
   "toc_section_display": true,
   "toc_window_display": true
  }
 },
 "nbformat": 4,
 "nbformat_minor": 4
}
